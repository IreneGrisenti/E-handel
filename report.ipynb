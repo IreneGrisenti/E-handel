{
 "cells": [
  {
   "cell_type": "code",
   "execution_count": 2,
   "id": "7e55e422",
   "metadata": {},
   "outputs": [
    {
     "name": "stdout",
     "output_type": "stream",
     "text": [
      "Here is a sample of our data:\n"
     ]
    },
    {
     "data": {
      "application/vnd.microsoft.datawrangler.viewer.v0+json": {
       "columns": [
        {
         "name": "index",
         "rawType": "int64",
         "type": "integer"
        },
        {
         "name": "order_id",
         "rawType": "int64",
         "type": "integer"
        },
        {
         "name": "date",
         "rawType": "datetime64[ns]",
         "type": "datetime"
        },
        {
         "name": "city",
         "rawType": "object",
         "type": "string"
        },
        {
         "name": "category",
         "rawType": "object",
         "type": "string"
        },
        {
         "name": "price",
         "rawType": "float64",
         "type": "float"
        },
        {
         "name": "units",
         "rawType": "int64",
         "type": "integer"
        },
        {
         "name": "revenue",
         "rawType": "float64",
         "type": "float"
        }
       ],
       "ref": "87e26c72-422a-44f4-aa48-c126c45c91f9",
       "rows": [
        [
         "1613",
         "101613",
         "2024-06-02 00:00:00",
         "Malmö",
         "Toys",
         "137.77",
         "3",
         "413.31"
        ],
        [
         "2488",
         "102488",
         "2024-06-27 00:00:00",
         "Stockholm",
         "Electronics",
         "586.85",
         "3",
         "1760.55"
        ],
        [
         "1872",
         "101872",
         "2024-03-13 00:00:00",
         "Göteborg",
         "Electronics",
         "854.14",
         "3",
         "2562.42"
        ]
       ],
       "shape": {
        "columns": 7,
        "rows": 3
       }
      },
      "text/html": [
       "<div>\n",
       "<style scoped>\n",
       "    .dataframe tbody tr th:only-of-type {\n",
       "        vertical-align: middle;\n",
       "    }\n",
       "\n",
       "    .dataframe tbody tr th {\n",
       "        vertical-align: top;\n",
       "    }\n",
       "\n",
       "    .dataframe thead th {\n",
       "        text-align: right;\n",
       "    }\n",
       "</style>\n",
       "<table border=\"1\" class=\"dataframe\">\n",
       "  <thead>\n",
       "    <tr style=\"text-align: right;\">\n",
       "      <th></th>\n",
       "      <th>order_id</th>\n",
       "      <th>date</th>\n",
       "      <th>city</th>\n",
       "      <th>category</th>\n",
       "      <th>price</th>\n",
       "      <th>units</th>\n",
       "      <th>revenue</th>\n",
       "    </tr>\n",
       "  </thead>\n",
       "  <tbody>\n",
       "    <tr>\n",
       "      <th>1613</th>\n",
       "      <td>101613</td>\n",
       "      <td>2024-06-02</td>\n",
       "      <td>Malmö</td>\n",
       "      <td>Toys</td>\n",
       "      <td>137.77</td>\n",
       "      <td>3</td>\n",
       "      <td>413.31</td>\n",
       "    </tr>\n",
       "    <tr>\n",
       "      <th>2488</th>\n",
       "      <td>102488</td>\n",
       "      <td>2024-06-27</td>\n",
       "      <td>Stockholm</td>\n",
       "      <td>Electronics</td>\n",
       "      <td>586.85</td>\n",
       "      <td>3</td>\n",
       "      <td>1760.55</td>\n",
       "    </tr>\n",
       "    <tr>\n",
       "      <th>1872</th>\n",
       "      <td>101872</td>\n",
       "      <td>2024-03-13</td>\n",
       "      <td>Göteborg</td>\n",
       "      <td>Electronics</td>\n",
       "      <td>854.14</td>\n",
       "      <td>3</td>\n",
       "      <td>2562.42</td>\n",
       "    </tr>\n",
       "  </tbody>\n",
       "</table>\n",
       "</div>"
      ],
      "text/plain": [
       "      order_id       date       city     category   price  units  revenue\n",
       "1613    101613 2024-06-02      Malmö         Toys  137.77      3   413.31\n",
       "2488    102488 2024-06-27  Stockholm  Electronics  586.85      3  1760.55\n",
       "1872    101872 2024-03-13   Göteborg  Electronics  854.14      3  2562.42"
      ]
     },
     "execution_count": 2,
     "metadata": {},
     "output_type": "execute_result"
    }
   ],
   "source": [
    "import numpy as np\n",
    "import pandas as pd\n",
    "import matplotlib.pyplot as plt\n",
    "from src.io_utils import read_data, clean_data\n",
    "\n",
    "df = read_data(\"data/ecommerce_sales.csv\")\n",
    "\n",
    "df_clean = clean_data(df)\n",
    "\n",
    "print(\"Here is a sample of our data:\")\n",
    "df_clean.sample(3)"
   ]
  },
  {
   "cell_type": "markdown",
   "id": "52c260da",
   "metadata": {},
   "source": [
    "## Total revenue and units sold"
   ]
  },
  {
   "cell_type": "code",
   "execution_count": 9,
   "id": "e6c23c74",
   "metadata": {},
   "outputs": [
    {
     "name": "stdout",
     "output_type": "stream",
     "text": [
      "\n",
      "In 2024 we sold a total of 7463 units,\n",
      "for a total revenue of 3502767.23 sek.\n"
     ]
    }
   ],
   "source": [
    "from src.metrics import total_revenue, total_units\n",
    "\n",
    "print()\n",
    "print(f\"In 2024 we sold a total of {total_units(df_clean)} units,\\n\"\n",
    "      f\"for a total revenue of {total_revenue(df_clean)} sek.\")"
   ]
  }
 ],
 "metadata": {
  "kernelspec": {
   "display_name": ".venv",
   "language": "python",
   "name": "python3"
  },
  "language_info": {
   "codemirror_mode": {
    "name": "ipython",
    "version": 3
   },
   "file_extension": ".py",
   "mimetype": "text/x-python",
   "name": "python",
   "nbconvert_exporter": "python",
   "pygments_lexer": "ipython3",
   "version": "3.13.7"
  }
 },
 "nbformat": 4,
 "nbformat_minor": 5
}
