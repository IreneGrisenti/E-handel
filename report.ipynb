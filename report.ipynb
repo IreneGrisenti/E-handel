{
 "cells": [
  {
   "cell_type": "code",
   "execution_count": 1,
   "id": "7e55e422",
   "metadata": {},
   "outputs": [
    {
     "name": "stdout",
     "output_type": "stream",
     "text": [
      "------------------------------------------------------------------------------------------------------------------------------------------------------\n",
      "\n",
      "Here is a sample of our data:\n",
      "\n",
      "     order_id       date       city  category   price  units  revenue\n",
      "734    100734 2024-01-25    Uppsala  Clothing  412.16      4  1648.64\n",
      "397    100397 2024-04-20  Stockholm  Clothing  381.31      3  1143.93\n",
      "303    100303 2024-06-06   Västerås    Beauty  247.93      4   991.72\n",
      "\n",
      "------------------------------------------------------------------------------------------------------------------------------------------------------\n"
     ]
    }
   ],
   "source": [
    "import numpy as np\n",
    "import pandas as pd\n",
    "import matplotlib.pyplot as plt\n",
    "from src.io_utils import *\n",
    "from src.metrics import *\n",
    "\n",
    "df = read_data(\"data/ecommerce_sales.csv\")\n",
    "\n",
    "df_clean = clean_data(df)\n",
    "\n",
    "print(\"---\" * 50)\n",
    "print()\n",
    "print(\"Here is a sample of our data:\")\n",
    "print()\n",
    "print(df_clean.sample(3))\n",
    "print()\n",
    "print(\"---\" * 50)"
   ]
  },
  {
   "cell_type": "markdown",
   "id": "52c260da",
   "metadata": {},
   "source": [
    "## Total revenue and units sold"
   ]
  },
  {
   "cell_type": "code",
   "execution_count": 2,
   "id": "e6c23c74",
   "metadata": {},
   "outputs": [
    {
     "name": "stdout",
     "output_type": "stream",
     "text": [
      "------------------------------------------------------------------------------------------------------------------------------------------------------\n",
      "\n",
      "In 2024 we sold a total of 7463 units,\n",
      "for a total revenue of 3502767.23 sek.\n",
      "\n",
      "------------------------------------------------------------------------------------------------------------------------------------------------------\n"
     ]
    }
   ],
   "source": [
    "print(\"---\" * 50)\n",
    "print()\n",
    "print(f\"In 2024 we sold a total of {total_units(df_clean)} units,\\n\"\n",
    "      f\"for a total revenue of {total_revenue(df_clean)} sek.\")\n",
    "print()\n",
    "print(\"---\" * 50)"
   ]
  },
  {
   "cell_type": "markdown",
   "id": "6d6a25a1",
   "metadata": {},
   "source": [
    "## Average Order"
   ]
  },
  {
   "cell_type": "code",
   "execution_count": 3,
   "id": "32113a20",
   "metadata": {},
   "outputs": [
    {
     "name": "stdout",
     "output_type": "stream",
     "text": [
      "------------------------------------------------------------------------------------------------------------------------------------------------------\n",
      "\n",
      "Th average order value is 1401.11 sek.\n",
      "\n",
      "------------------------------------------------------------------------------------------------------------------------------------------------------\n"
     ]
    }
   ],
   "source": [
    "print(\"---\" * 50)\n",
    "print()\n",
    "print(f\"Th average order value is {average_order(df_clean)} sek.\")\n",
    "print()\n",
    "print(\"---\" * 50)"
   ]
  },
  {
   "cell_type": "markdown",
   "id": "98db0d30",
   "metadata": {},
   "source": [
    "## Revenue per category"
   ]
  },
  {
   "cell_type": "code",
   "execution_count": 4,
   "id": "8a9e9305",
   "metadata": {},
   "outputs": [
    {
     "name": "stdout",
     "output_type": "stream",
     "text": [
      "------------------------------------------------------------------------------------------------------------------------------------------------------\n",
      "\n",
      "The top 3 categories per revenue are:\n",
      "      category  tot_rev_cat\n",
      "0  Electronics   1364228.07\n",
      "1       Sports    734653.42\n",
      "2     Clothing    586744.91.\n",
      "---INSERT PLOT\n",
      "\n",
      "------------------------------------------------------------------------------------------------------------------------------------------------------\n"
     ]
    }
   ],
   "source": [
    "print(\"---\" * 50)\n",
    "print()\n",
    "print(f\"The top 3 categories per revenue are:\\n\"\n",
    "      f\"{revenue_per_category(df_clean).head(3)}.\")\n",
    "print(\"---INSERT PLOT\")\n",
    "print()\n",
    "print(\"---\" * 50)"
   ]
  },
  {
   "cell_type": "markdown",
   "id": "ab0bb906",
   "metadata": {},
   "source": [
    "## Revenue per city"
   ]
  },
  {
   "cell_type": "code",
   "execution_count": 10,
   "id": "012bcc07",
   "metadata": {},
   "outputs": [
    {
     "name": "stdout",
     "output_type": "stream",
     "text": [
      "------------------------------------------------------------------------------------------------------------------------------------------------------\n",
      "\n",
      "The top 3 cities per revenue are:\n",
      "        city  tot_rev_city\n",
      "0  Stockholm    1227201.94\n",
      "1   Göteborg     859019.65\n",
      "2      Malmö     567926.32.\n",
      "---INSERT PLOT\n",
      "\n",
      "------------------------------------------------------------------------------------------------------------------------------------------------------\n"
     ]
    }
   ],
   "source": [
    "print(\"---\" * 50)\n",
    "print()\n",
    "print(f\"The top 3 cities per revenue are:\\n\"\n",
    "      f\"{revenue_per_city(df_clean).head(3)}.\")\n",
    "print(\"---INSERT PLOT\")\n",
    "print()\n",
    "print(\"---\" * 50)"
   ]
  }
 ],
 "metadata": {
  "kernelspec": {
   "display_name": ".venv",
   "language": "python",
   "name": "python3"
  },
  "language_info": {
   "codemirror_mode": {
    "name": "ipython",
    "version": 3
   },
   "file_extension": ".py",
   "mimetype": "text/x-python",
   "name": "python",
   "nbconvert_exporter": "python",
   "pygments_lexer": "ipython3",
   "version": "3.13.7"
  }
 },
 "nbformat": 4,
 "nbformat_minor": 5
}
