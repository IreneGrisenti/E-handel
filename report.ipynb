{
 "cells": [
  {
   "cell_type": "code",
   "execution_count": 6,
   "id": "7e55e422",
   "metadata": {},
   "outputs": [
    {
     "name": "stdout",
     "output_type": "stream",
     "text": [
      "Here is a sample of our data:\n"
     ]
    },
    {
     "data": {
      "application/vnd.microsoft.datawrangler.viewer.v0+json": {
       "columns": [
        {
         "name": "index",
         "rawType": "int64",
         "type": "integer"
        },
        {
         "name": "order_id",
         "rawType": "int64",
         "type": "integer"
        },
        {
         "name": "date",
         "rawType": "datetime64[ns]",
         "type": "datetime"
        },
        {
         "name": "city",
         "rawType": "object",
         "type": "string"
        },
        {
         "name": "category",
         "rawType": "object",
         "type": "string"
        },
        {
         "name": "price",
         "rawType": "float64",
         "type": "float"
        },
        {
         "name": "units",
         "rawType": "int64",
         "type": "integer"
        },
        {
         "name": "revenue",
         "rawType": "float64",
         "type": "float"
        }
       ],
       "ref": "284523b7-f734-4176-899d-c4400c4995f8",
       "rows": [
        [
         "1060",
         "101060",
         "2024-01-31 00:00:00",
         "Göteborg",
         "Clothing",
         "737.33",
         "3",
         "2211.99"
        ],
        [
         "2241",
         "102241",
         "2024-06-15 00:00:00",
         "Göteborg",
         "Home",
         "640.68",
         "1",
         "640.68"
        ],
        [
         "2150",
         "102150",
         "2024-02-11 00:00:00",
         "Stockholm",
         "Home",
         "765.92",
         "3",
         "2297.76"
        ]
       ],
       "shape": {
        "columns": 7,
        "rows": 3
       }
      },
      "text/html": [
       "<div>\n",
       "<style scoped>\n",
       "    .dataframe tbody tr th:only-of-type {\n",
       "        vertical-align: middle;\n",
       "    }\n",
       "\n",
       "    .dataframe tbody tr th {\n",
       "        vertical-align: top;\n",
       "    }\n",
       "\n",
       "    .dataframe thead th {\n",
       "        text-align: right;\n",
       "    }\n",
       "</style>\n",
       "<table border=\"1\" class=\"dataframe\">\n",
       "  <thead>\n",
       "    <tr style=\"text-align: right;\">\n",
       "      <th></th>\n",
       "      <th>order_id</th>\n",
       "      <th>date</th>\n",
       "      <th>city</th>\n",
       "      <th>category</th>\n",
       "      <th>price</th>\n",
       "      <th>units</th>\n",
       "      <th>revenue</th>\n",
       "    </tr>\n",
       "  </thead>\n",
       "  <tbody>\n",
       "    <tr>\n",
       "      <th>1060</th>\n",
       "      <td>101060</td>\n",
       "      <td>2024-01-31</td>\n",
       "      <td>Göteborg</td>\n",
       "      <td>Clothing</td>\n",
       "      <td>737.33</td>\n",
       "      <td>3</td>\n",
       "      <td>2211.99</td>\n",
       "    </tr>\n",
       "    <tr>\n",
       "      <th>2241</th>\n",
       "      <td>102241</td>\n",
       "      <td>2024-06-15</td>\n",
       "      <td>Göteborg</td>\n",
       "      <td>Home</td>\n",
       "      <td>640.68</td>\n",
       "      <td>1</td>\n",
       "      <td>640.68</td>\n",
       "    </tr>\n",
       "    <tr>\n",
       "      <th>2150</th>\n",
       "      <td>102150</td>\n",
       "      <td>2024-02-11</td>\n",
       "      <td>Stockholm</td>\n",
       "      <td>Home</td>\n",
       "      <td>765.92</td>\n",
       "      <td>3</td>\n",
       "      <td>2297.76</td>\n",
       "    </tr>\n",
       "  </tbody>\n",
       "</table>\n",
       "</div>"
      ],
      "text/plain": [
       "      order_id       date       city  category   price  units  revenue\n",
       "1060    101060 2024-01-31   Göteborg  Clothing  737.33      3  2211.99\n",
       "2241    102241 2024-06-15   Göteborg      Home  640.68      1   640.68\n",
       "2150    102150 2024-02-11  Stockholm      Home  765.92      3  2297.76"
      ]
     },
     "execution_count": 6,
     "metadata": {},
     "output_type": "execute_result"
    }
   ],
   "source": [
    "import numpy as np\n",
    "import pandas as pd\n",
    "import matplotlib.pyplot as plt\n",
    "from src.io_utils import read_data, clean_data\n",
    "\n",
    "df = read_data(\"data/ecommerce_sales.csv\")\n",
    "\n",
    "df_clean = clean_data(df)\n",
    "\n",
    "print(\"Here is a sample of our data:\")\n",
    "df_clean.sample(3)"
   ]
  },
  {
   "cell_type": "markdown",
   "id": "ab48df10",
   "metadata": {},
   "source": []
  }
 ],
 "metadata": {
  "kernelspec": {
   "display_name": ".venv",
   "language": "python",
   "name": "python3"
  },
  "language_info": {
   "codemirror_mode": {
    "name": "ipython",
    "version": 3
   },
   "file_extension": ".py",
   "mimetype": "text/x-python",
   "name": "python",
   "nbconvert_exporter": "python",
   "pygments_lexer": "ipython3",
   "version": "3.13.7"
  }
 },
 "nbformat": 4,
 "nbformat_minor": 5
}
