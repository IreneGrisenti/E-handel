{
 "cells": [
  {
   "cell_type": "code",
   "execution_count": 8,
   "id": "7e55e422",
   "metadata": {},
   "outputs": [
    {
     "name": "stdout",
     "output_type": "stream",
     "text": [
      "------------------------------------------------------------------------------------------------------------------------------------------------------\n",
      "\n",
      "Here is a sample of our data:\n",
      "\n",
      "      order_id       date       city category   price  units  revenue\n",
      "743     100743 2024-03-07   Göteborg     Home  584.80      4  2339.20\n",
      "1676    101676 2024-01-21   Göteborg     Home  412.99      2   825.98\n",
      "1626    101626 2024-02-24  Stockholm   Sports  413.93      4  1655.72\n",
      "\n",
      "------------------------------------------------------------------------------------------------------------------------------------------------------\n"
     ]
    }
   ],
   "source": [
    "import numpy as np\n",
    "import pandas as pd\n",
    "import matplotlib.pyplot as plt\n",
    "from src.io_utils import *\n",
    "from src.metrics import *\n",
    "\n",
    "df = read_data(\"data/ecommerce_sales.csv\")\n",
    "\n",
    "df_clean = clean_data(df)\n",
    "\n",
    "print(\"---\" * 50)\n",
    "print()\n",
    "print(\"Here is a sample of our data:\")\n",
    "print()\n",
    "print(df_clean.sample(3))\n",
    "print()\n",
    "print(\"---\" * 50)"
   ]
  },
  {
   "cell_type": "markdown",
   "id": "52c260da",
   "metadata": {},
   "source": [
    "## Total revenue and units sold"
   ]
  },
  {
   "cell_type": "code",
   "execution_count": 5,
   "id": "e6c23c74",
   "metadata": {},
   "outputs": [
    {
     "name": "stdout",
     "output_type": "stream",
     "text": [
      "------------------------------------------------------------------------------------------------------------------------------------------------------\n",
      "\n",
      "In 2024 we sold a total of 7463 units,\n",
      "for a total revenue of 3502767.23 sek.\n",
      "\n",
      "------------------------------------------------------------------------------------------------------------------------------------------------------\n"
     ]
    }
   ],
   "source": [
    "print(\"---\" * 50)\n",
    "print()\n",
    "print(f\"In 2024 we sold a total of {total_units(df_clean)} units,\\n\"\n",
    "      f\"for a total revenue of {total_revenue(df_clean)} sek.\")\n",
    "print()\n",
    "print(\"---\" * 50)"
   ]
  },
  {
   "cell_type": "markdown",
   "id": "6d6a25a1",
   "metadata": {},
   "source": [
    "## Average Order"
   ]
  },
  {
   "cell_type": "code",
   "execution_count": 9,
   "id": "32113a20",
   "metadata": {},
   "outputs": [
    {
     "name": "stdout",
     "output_type": "stream",
     "text": [
      "------------------------------------------------------------------------------------------------------------------------------------------------------\n",
      "\n",
      "Th average order is 1401.11 sek.\n",
      "\n",
      "------------------------------------------------------------------------------------------------------------------------------------------------------\n"
     ]
    }
   ],
   "source": [
    "print(\"---\" * 50)\n",
    "print()\n",
    "print(f\"Th average order is {average_order(df_clean)} sek.\")\n",
    "print()\n",
    "print(\"---\" * 50)"
   ]
  }
 ],
 "metadata": {
  "kernelspec": {
   "display_name": ".venv",
   "language": "python",
   "name": "python3"
  },
  "language_info": {
   "codemirror_mode": {
    "name": "ipython",
    "version": 3
   },
   "file_extension": ".py",
   "mimetype": "text/x-python",
   "name": "python",
   "nbconvert_exporter": "python",
   "pygments_lexer": "ipython3",
   "version": "3.13.7"
  }
 },
 "nbformat": 4,
 "nbformat_minor": 5
}
